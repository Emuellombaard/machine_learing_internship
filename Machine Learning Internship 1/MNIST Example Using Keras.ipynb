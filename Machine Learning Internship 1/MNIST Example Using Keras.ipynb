{
 "cells": [
  {
   "cell_type": "markdown",
   "metadata": {},
   "source": [
    "# MNIST Example using Keras\n"
   ]
  },
  {
   "cell_type": "code",
   "execution_count": 1,
   "metadata": {},
   "outputs": [
    {
     "name": "stderr",
     "output_type": "stream",
     "text": [
      "Using TensorFlow backend.\n"
     ]
    }
   ],
   "source": [
    "import keras\n",
    "from keras.datasets import mnist # Downloads the Dataset from Keras\n",
    "from keras.models import Sequential\n",
    "from keras.layers import Dense, Dropout, Flatten\n",
    "from keras.layers import Conv2D, MaxPooling2D\n",
    "import numpy as np"
   ]
  },
  {
   "cell_type": "code",
   "execution_count": 2,
   "metadata": {},
   "outputs": [
    {
     "name": "stdout",
     "output_type": "stream",
     "text": [
      "x_train shape: (60000, 28, 28, 1)\n",
      "60000 train samples\n",
      "10000 test samples\n"
     ]
    }
   ],
   "source": [
    "#batch_size = 256\n",
    "batch_size = 128\n",
    "num_classes = 10\n",
    "epochs = 15\n",
    "\n",
    "# input image dimensions\n",
    "img_rows, img_cols = 28, 28\n",
    "\n",
    "# the data, split between train and test sets\n",
    "(x_train, y_train), (x_test, y_test) = mnist.load_data()\n",
    "\n",
    "x_train = x_train.reshape(60000,28,28,1)\n",
    "x_test = x_test.reshape(10000,28,28,1)\n",
    "\n",
    "print('x_train shape:', x_train.shape)\n",
    "print(x_train.shape[0], 'train samples')\n",
    "print(x_test.shape[0], 'test samples')"
   ]
  },
  {
   "cell_type": "code",
   "execution_count": 3,
   "metadata": {},
   "outputs": [
    {
     "name": "stdout",
     "output_type": "stream",
     "text": [
      "Train on 60000 samples, validate on 10000 samples\n",
      "Epoch 1/15\n",
      "60000/60000 [==============================] - 66s 1ms/step - loss: 2.6808 - acc: 0.7789 - val_loss: 0.0839 - val_acc: 0.9730\n",
      "Epoch 2/15\n",
      "60000/60000 [==============================] - 62s 1ms/step - loss: 0.1262 - acc: 0.9632 - val_loss: 0.0505 - val_acc: 0.9824\n",
      "Epoch 3/15\n",
      "60000/60000 [==============================] - 61s 1ms/step - loss: 0.0868 - acc: 0.9753 - val_loss: 0.0380 - val_acc: 0.9861\n",
      "Epoch 4/15\n",
      "60000/60000 [==============================] - 61s 1ms/step - loss: 0.0708 - acc: 0.9789 - val_loss: 0.0361 - val_acc: 0.9881\n",
      "Epoch 5/15\n",
      "60000/60000 [==============================] - 61s 1ms/step - loss: 0.0587 - acc: 0.9838 - val_loss: 0.0389 - val_acc: 0.9886\n",
      "Epoch 6/15\n",
      "60000/60000 [==============================] - 61s 1ms/step - loss: 0.0500 - acc: 0.9852 - val_loss: 0.0386 - val_acc: 0.9869\n",
      "Epoch 7/15\n",
      "60000/60000 [==============================] - 61s 1ms/step - loss: 0.0447 - acc: 0.9867 - val_loss: 0.0376 - val_acc: 0.9897\n",
      "Epoch 8/15\n",
      "60000/60000 [==============================] - 61s 1ms/step - loss: 0.0392 - acc: 0.9881 - val_loss: 0.0336 - val_acc: 0.9900\n",
      "Epoch 9/15\n",
      "60000/60000 [==============================] - 61s 1ms/step - loss: 0.0362 - acc: 0.9892 - val_loss: 0.0409 - val_acc: 0.9893\n",
      "Epoch 10/15\n",
      "60000/60000 [==============================] - 61s 1ms/step - loss: 0.0357 - acc: 0.9893 - val_loss: 0.0317 - val_acc: 0.9902\n",
      "Epoch 11/15\n",
      "60000/60000 [==============================] - 61s 1ms/step - loss: 0.0320 - acc: 0.9898 - val_loss: 0.0302 - val_acc: 0.9910\n",
      "Epoch 12/15\n",
      "60000/60000 [==============================] - 62s 1ms/step - loss: 0.0302 - acc: 0.9912 - val_loss: 0.0379 - val_acc: 0.9900\n",
      "Epoch 13/15\n",
      "60000/60000 [==============================] - 63s 1ms/step - loss: 0.0282 - acc: 0.9915 - val_loss: 0.0395 - val_acc: 0.9900\n",
      "Epoch 14/15\n",
      "60000/60000 [==============================] - 64s 1ms/step - loss: 0.0284 - acc: 0.9919 - val_loss: 0.0332 - val_acc: 0.9906\n",
      "Epoch 15/15\n",
      "60000/60000 [==============================] - 63s 1ms/step - loss: 0.0261 - acc: 0.9924 - val_loss: 0.0348 - val_acc: 0.9905\n",
      "Test loss: 0.03478405188298652\n",
      "Test accuracy: 0.9905\n"
     ]
    }
   ],
   "source": [
    "# convert class vectors to binary class matrices\n",
    "y_train = keras.utils.to_categorical(y_train, num_classes)\n",
    "y_test = keras.utils.to_categorical(y_test, num_classes)\n",
    "\n",
    "model = Sequential()\n",
    "model.add(Conv2D(32, kernel_size=(3, 3),\n",
    "                 activation='relu',\n",
    "                 input_shape=(28,28,1)))\n",
    "model.add(Conv2D(64, (3, 3), activation='relu'))\n",
    "model.add(MaxPooling2D(pool_size=(2, 2)))\n",
    "model.add(Dropout(0.25))\n",
    "model.add(Flatten())\n",
    "model.add(Dense(128, activation='relu'))\n",
    "model.add(Dropout(0.5))\n",
    "model.add(Dense(num_classes, activation='softmax'))\n",
    "\n",
    "model.compile(loss=keras.losses.categorical_crossentropy,\n",
    "              optimizer=keras.optimizers.Adadelta(),\n",
    "              metrics=['accuracy'])\n",
    "\n",
    "model.fit(x_train, y_train,\n",
    "          batch_size=batch_size,\n",
    "          epochs=epochs,\n",
    "          verbose=1,\n",
    "          validation_data=(x_test, y_test))\n",
    "score = model.evaluate(x_test, y_test, verbose=0)\n",
    "print('Test loss:', score[0])\n",
    "print('Test accuracy:', score[1])"
   ]
  },
  {
   "cell_type": "code",
   "execution_count": null,
   "metadata": {},
   "outputs": [],
   "source": []
  },
  {
   "cell_type": "code",
   "execution_count": null,
   "metadata": {},
   "outputs": [],
   "source": []
  }
 ],
 "metadata": {
  "kernelspec": {
   "display_name": "Python 3",
   "language": "python",
   "name": "python3"
  },
  "language_info": {
   "codemirror_mode": {
    "name": "ipython",
    "version": 3
   },
   "file_extension": ".py",
   "mimetype": "text/x-python",
   "name": "python",
   "nbconvert_exporter": "python",
   "pygments_lexer": "ipython3",
   "version": "3.6.8"
  }
 },
 "nbformat": 4,
 "nbformat_minor": 2
}
